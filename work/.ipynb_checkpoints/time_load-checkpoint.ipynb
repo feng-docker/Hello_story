{
 "cells": [
  {
   "cell_type": "code",
   "execution_count": 1,
   "metadata": {},
   "outputs": [],
   "source": [
    "\"\"\"\n",
    "使用python的request模組去訪問https://jsonplaceholder.typicode.com/users  取得第2,3,4,5 筆資料，\n",
    "\n",
    "偵測當時日期，轉作檔名，將2345筆資料內容寫入檔案中。\n",
    "\n",
    "\"\"\"\n",
    "\n",
    "import requests,time,os\n",
    "#取得第2,3,4,5 筆資料\n",
    "my_params = {'id': ['2','3','4','5'] }\n",
    "#request模組去訪問\n",
    "r = requests.get('https://jsonplaceholder.typicode.com/users', params= my_params )\n",
    "#偵測當時日期\n",
    "ticks = time.strftime(\"%Y-%m-%d\")\n",
    "#當時日期轉作檔名\n",
    "load = open (ticks+\".txt\",'w')\n",
    "#將2345筆資料內容寫入檔案中\n",
    "load.write(r.text)\n",
    "#關閉檔案\n",
    "load.close()\n"
   ]
  },
  {
   "cell_type": "code",
   "execution_count": null,
   "metadata": {},
   "outputs": [],
   "source": []
  }
 ],
 "metadata": {
  "kernelspec": {
   "display_name": "Python 3",
   "language": "python",
   "name": "python3"
  },
  "language_info": {
   "codemirror_mode": {
    "name": "ipython",
    "version": 3
   },
   "file_extension": ".py",
   "mimetype": "text/x-python",
   "name": "python",
   "nbconvert_exporter": "python",
   "pygments_lexer": "ipython3",
   "version": "3.7.6"
  }
 },
 "nbformat": 4,
 "nbformat_minor": 4
}
